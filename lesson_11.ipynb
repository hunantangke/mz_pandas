{
 "cells": [
  {
   "cell_type": "code",
   "execution_count": 1,
   "metadata": {
    "collapsed": true
   },
   "outputs": [],
   "source": [
    "import numpy as np\n",
    "import pandas as pd"
   ]
  },
  {
   "cell_type": "code",
   "execution_count": 2,
   "metadata": {
    "collapsed": false
   },
   "outputs": [
    {
     "data": {
      "text/plain": [
       "a    1\n",
       "c    3\n",
       "e    5\n",
       "f    7\n",
       "h    9\n",
       "dtype: int64"
      ]
     },
     "execution_count": 2,
     "metadata": {},
     "output_type": "execute_result"
    }
   ],
   "source": [
    "s = pd.Series([1,3,5,7,9],index=list('acefh'))\n",
    "s"
   ]
  },
  {
   "cell_type": "code",
   "execution_count": 3,
   "metadata": {
    "collapsed": false
   },
   "outputs": [
    {
     "data": {
      "text/plain": [
       "a    1.0\n",
       "b    NaN\n",
       "c    3.0\n",
       "d    NaN\n",
       "e    5.0\n",
       "f    7.0\n",
       "h    9.0\n",
       "dtype: float64"
      ]
     },
     "execution_count": 3,
     "metadata": {},
     "output_type": "execute_result"
    }
   ],
   "source": [
    "# 重新创建索引\n",
    "s.reindex(list('abcdefh'))"
   ]
  },
  {
   "cell_type": "code",
   "execution_count": 4,
   "metadata": {
    "collapsed": false
   },
   "outputs": [
    {
     "data": {
      "text/plain": [
       "a    1\n",
       "b    0\n",
       "c    3\n",
       "d    0\n",
       "e    5\n",
       "f    7\n",
       "h    9\n",
       "dtype: int64"
      ]
     },
     "execution_count": 4,
     "metadata": {},
     "output_type": "execute_result"
    }
   ],
   "source": [
    "# 给空缺的数默认设为0\n",
    "s.reindex(list('abcdefh'),fill_value=0)"
   ]
  },
  {
   "cell_type": "code",
   "execution_count": 6,
   "metadata": {
    "collapsed": false
   },
   "outputs": [
    {
     "data": {
      "text/plain": [
       "a    1\n",
       "b    1\n",
       "c    3\n",
       "d    3\n",
       "e    5\n",
       "f    7\n",
       "h    9\n",
       "dtype: int64"
      ]
     },
     "execution_count": 6,
     "metadata": {},
     "output_type": "execute_result"
    }
   ],
   "source": [
    "# 将前面一个的数值填充到空的位置上(像股票停牌),只对行有效果\n",
    "s.reindex(list('abcdefh'),method='ffill')"
   ]
  },
  {
   "cell_type": "code",
   "execution_count": 19,
   "metadata": {
    "collapsed": false
   },
   "outputs": [
    {
     "data": {
      "text/plain": [
       "a    1\n",
       "b    3\n",
       "c    3\n",
       "d    5\n",
       "e    5\n",
       "f    7\n",
       "h    9\n",
       "dtype: int64"
      ]
     },
     "execution_count": 19,
     "metadata": {},
     "output_type": "execute_result"
    }
   ],
   "source": [
    "# 后面的的数填充\n",
    "s.reindex(list('abcdefh'),method='bfill')"
   ]
  },
  {
   "cell_type": "code",
   "execution_count": 27,
   "metadata": {
    "collapsed": false
   },
   "outputs": [
    {
     "data": {
      "text/html": [
       "<div>\n",
       "<table border=\"1\" class=\"dataframe\">\n",
       "  <thead>\n",
       "    <tr style=\"text-align: right;\">\n",
       "      <th></th>\n",
       "      <th>one</th>\n",
       "      <th>two</th>\n",
       "      <th>three</th>\n",
       "      <th>four</th>\n",
       "      <th>five</th>\n",
       "      <th>six</th>\n",
       "    </tr>\n",
       "  </thead>\n",
       "  <tbody>\n",
       "    <tr>\n",
       "      <th>a</th>\n",
       "      <td>0.897951</td>\n",
       "      <td>-0.063072</td>\n",
       "      <td>-0.120611</td>\n",
       "      <td>-0.770656</td>\n",
       "      <td>0.733608</td>\n",
       "      <td>-0.556656</td>\n",
       "    </tr>\n",
       "    <tr>\n",
       "      <th>b</th>\n",
       "      <td>1.287804</td>\n",
       "      <td>-0.686061</td>\n",
       "      <td>-0.741845</td>\n",
       "      <td>-0.088056</td>\n",
       "      <td>-0.249388</td>\n",
       "      <td>-1.071138</td>\n",
       "    </tr>\n",
       "    <tr>\n",
       "      <th>c</th>\n",
       "      <td>1.130996</td>\n",
       "      <td>0.370635</td>\n",
       "      <td>-0.397492</td>\n",
       "      <td>1.633125</td>\n",
       "      <td>-0.083090</td>\n",
       "      <td>0.067505</td>\n",
       "    </tr>\n",
       "    <tr>\n",
       "      <th>d</th>\n",
       "      <td>0.464732</td>\n",
       "      <td>-0.070307</td>\n",
       "      <td>0.817354</td>\n",
       "      <td>-1.077252</td>\n",
       "      <td>0.917955</td>\n",
       "      <td>-1.622885</td>\n",
       "    </tr>\n",
       "  </tbody>\n",
       "</table>\n",
       "</div>"
      ],
      "text/plain": [
       "        one       two     three      four      five       six\n",
       "a  0.897951 -0.063072 -0.120611 -0.770656  0.733608 -0.556656\n",
       "b  1.287804 -0.686061 -0.741845 -0.088056 -0.249388 -1.071138\n",
       "c  1.130996  0.370635 -0.397492  1.633125 -0.083090  0.067505\n",
       "d  0.464732 -0.070307  0.817354 -1.077252  0.917955 -1.622885"
      ]
     },
     "execution_count": 27,
     "metadata": {},
     "output_type": "execute_result"
    }
   ],
   "source": [
    "df = pd.DataFrame(np.random.randn(4,6),index=list('abcd'),columns=['one','two','three','four','five','six'])\n",
    "df"
   ]
  },
  {
   "cell_type": "code",
   "execution_count": 9,
   "metadata": {
    "collapsed": false
   },
   "outputs": [
    {
     "data": {
      "text/html": [
       "<div>\n",
       "<table border=\"1\" class=\"dataframe\">\n",
       "  <thead>\n",
       "    <tr style=\"text-align: right;\">\n",
       "      <th></th>\n",
       "      <th>one</th>\n",
       "      <th>two</th>\n",
       "      <th>three</th>\n",
       "      <th>four</th>\n",
       "      <th>five</th>\n",
       "      <th>six</th>\n",
       "    </tr>\n",
       "  </thead>\n",
       "  <tbody>\n",
       "    <tr>\n",
       "      <th>a</th>\n",
       "      <td>2.239780</td>\n",
       "      <td>0.859585</td>\n",
       "      <td>-0.586926</td>\n",
       "      <td>0.248232</td>\n",
       "      <td>-0.254333</td>\n",
       "      <td>0.115243</td>\n",
       "    </tr>\n",
       "    <tr>\n",
       "      <th>b</th>\n",
       "      <td>-0.222317</td>\n",
       "      <td>-0.902349</td>\n",
       "      <td>-0.121524</td>\n",
       "      <td>0.046674</td>\n",
       "      <td>-0.730126</td>\n",
       "      <td>-0.349760</td>\n",
       "    </tr>\n",
       "    <tr>\n",
       "      <th>c</th>\n",
       "      <td>0.604333</td>\n",
       "      <td>0.062676</td>\n",
       "      <td>-1.642517</td>\n",
       "      <td>-0.542909</td>\n",
       "      <td>-0.339725</td>\n",
       "      <td>-1.334859</td>\n",
       "    </tr>\n",
       "    <tr>\n",
       "      <th>d</th>\n",
       "      <td>-0.621263</td>\n",
       "      <td>1.055944</td>\n",
       "      <td>-0.746792</td>\n",
       "      <td>0.559971</td>\n",
       "      <td>0.495807</td>\n",
       "      <td>0.927689</td>\n",
       "    </tr>\n",
       "    <tr>\n",
       "      <th>e</th>\n",
       "      <td>NaN</td>\n",
       "      <td>NaN</td>\n",
       "      <td>NaN</td>\n",
       "      <td>NaN</td>\n",
       "      <td>NaN</td>\n",
       "      <td>NaN</td>\n",
       "    </tr>\n",
       "  </tbody>\n",
       "</table>\n",
       "</div>"
      ],
      "text/plain": [
       "        one       two     three      four      five       six\n",
       "a  2.239780  0.859585 -0.586926  0.248232 -0.254333  0.115243\n",
       "b -0.222317 -0.902349 -0.121524  0.046674 -0.730126 -0.349760\n",
       "c  0.604333  0.062676 -1.642517 -0.542909 -0.339725 -1.334859\n",
       "d -0.621263  1.055944 -0.746792  0.559971  0.495807  0.927689\n",
       "e       NaN       NaN       NaN       NaN       NaN       NaN"
      ]
     },
     "execution_count": 9,
     "metadata": {},
     "output_type": "execute_result"
    }
   ],
   "source": [
    "df.reindex(index=list('abcde'))"
   ]
  },
  {
   "cell_type": "code",
   "execution_count": 12,
   "metadata": {
    "collapsed": false
   },
   "outputs": [
    {
     "data": {
      "text/html": [
       "<div>\n",
       "<table border=\"1\" class=\"dataframe\">\n",
       "  <thead>\n",
       "    <tr style=\"text-align: right;\">\n",
       "      <th></th>\n",
       "      <th>one</th>\n",
       "      <th>two</th>\n",
       "      <th>three</th>\n",
       "      <th>four</th>\n",
       "      <th>five</th>\n",
       "      <th>six</th>\n",
       "    </tr>\n",
       "  </thead>\n",
       "  <tbody>\n",
       "    <tr>\n",
       "      <th>a</th>\n",
       "      <td>2.239780</td>\n",
       "      <td>0.859585</td>\n",
       "      <td>-0.586926</td>\n",
       "      <td>0.248232</td>\n",
       "      <td>-0.254333</td>\n",
       "      <td>0.115243</td>\n",
       "    </tr>\n",
       "    <tr>\n",
       "      <th>b</th>\n",
       "      <td>-0.222317</td>\n",
       "      <td>-0.902349</td>\n",
       "      <td>-0.121524</td>\n",
       "      <td>0.046674</td>\n",
       "      <td>-0.730126</td>\n",
       "      <td>-0.349760</td>\n",
       "    </tr>\n",
       "    <tr>\n",
       "      <th>c</th>\n",
       "      <td>0.604333</td>\n",
       "      <td>0.062676</td>\n",
       "      <td>-1.642517</td>\n",
       "      <td>-0.542909</td>\n",
       "      <td>-0.339725</td>\n",
       "      <td>-1.334859</td>\n",
       "    </tr>\n",
       "    <tr>\n",
       "      <th>d</th>\n",
       "      <td>-0.621263</td>\n",
       "      <td>1.055944</td>\n",
       "      <td>-0.746792</td>\n",
       "      <td>0.559971</td>\n",
       "      <td>0.495807</td>\n",
       "      <td>0.927689</td>\n",
       "    </tr>\n",
       "    <tr>\n",
       "      <th>e</th>\n",
       "      <td>0.000000</td>\n",
       "      <td>0.000000</td>\n",
       "      <td>0.000000</td>\n",
       "      <td>0.000000</td>\n",
       "      <td>0.000000</td>\n",
       "      <td>0.000000</td>\n",
       "    </tr>\n",
       "    <tr>\n",
       "      <th>f</th>\n",
       "      <td>0.000000</td>\n",
       "      <td>0.000000</td>\n",
       "      <td>0.000000</td>\n",
       "      <td>0.000000</td>\n",
       "      <td>0.000000</td>\n",
       "      <td>0.000000</td>\n",
       "    </tr>\n",
       "  </tbody>\n",
       "</table>\n",
       "</div>"
      ],
      "text/plain": [
       "        one       two     three      four      five       six\n",
       "a  2.239780  0.859585 -0.586926  0.248232 -0.254333  0.115243\n",
       "b -0.222317 -0.902349 -0.121524  0.046674 -0.730126 -0.349760\n",
       "c  0.604333  0.062676 -1.642517 -0.542909 -0.339725 -1.334859\n",
       "d -0.621263  1.055944 -0.746792  0.559971  0.495807  0.927689\n",
       "e  0.000000  0.000000  0.000000  0.000000  0.000000  0.000000\n",
       "f  0.000000  0.000000  0.000000  0.000000  0.000000  0.000000"
      ]
     },
     "execution_count": 12,
     "metadata": {},
     "output_type": "execute_result"
    }
   ],
   "source": [
    "df1 = df.reindex(index=list('abcdef'),fill_value=0)\n",
    "df1"
   ]
  },
  {
   "cell_type": "code",
   "execution_count": 15,
   "metadata": {
    "collapsed": false
   },
   "outputs": [],
   "source": [
    "df1.loc['a']['one'] = 100"
   ]
  },
  {
   "cell_type": "code",
   "execution_count": 16,
   "metadata": {
    "collapsed": false
   },
   "outputs": [
    {
     "data": {
      "text/html": [
       "<div>\n",
       "<table border=\"1\" class=\"dataframe\">\n",
       "  <thead>\n",
       "    <tr style=\"text-align: right;\">\n",
       "      <th></th>\n",
       "      <th>one</th>\n",
       "      <th>two</th>\n",
       "      <th>three</th>\n",
       "      <th>four</th>\n",
       "      <th>five</th>\n",
       "      <th>six</th>\n",
       "    </tr>\n",
       "  </thead>\n",
       "  <tbody>\n",
       "    <tr>\n",
       "      <th>a</th>\n",
       "      <td>100.000000</td>\n",
       "      <td>0.859585</td>\n",
       "      <td>-0.586926</td>\n",
       "      <td>0.248232</td>\n",
       "      <td>-0.254333</td>\n",
       "      <td>0.115243</td>\n",
       "    </tr>\n",
       "    <tr>\n",
       "      <th>b</th>\n",
       "      <td>-0.222317</td>\n",
       "      <td>-0.902349</td>\n",
       "      <td>-0.121524</td>\n",
       "      <td>0.046674</td>\n",
       "      <td>-0.730126</td>\n",
       "      <td>-0.349760</td>\n",
       "    </tr>\n",
       "    <tr>\n",
       "      <th>c</th>\n",
       "      <td>0.604333</td>\n",
       "      <td>0.062676</td>\n",
       "      <td>-1.642517</td>\n",
       "      <td>-0.542909</td>\n",
       "      <td>-0.339725</td>\n",
       "      <td>-1.334859</td>\n",
       "    </tr>\n",
       "    <tr>\n",
       "      <th>d</th>\n",
       "      <td>-0.621263</td>\n",
       "      <td>1.055944</td>\n",
       "      <td>-0.746792</td>\n",
       "      <td>0.559971</td>\n",
       "      <td>0.495807</td>\n",
       "      <td>0.927689</td>\n",
       "    </tr>\n",
       "    <tr>\n",
       "      <th>e</th>\n",
       "      <td>0.000000</td>\n",
       "      <td>0.000000</td>\n",
       "      <td>0.000000</td>\n",
       "      <td>0.000000</td>\n",
       "      <td>0.000000</td>\n",
       "      <td>0.000000</td>\n",
       "    </tr>\n",
       "    <tr>\n",
       "      <th>f</th>\n",
       "      <td>0.000000</td>\n",
       "      <td>0.000000</td>\n",
       "      <td>0.000000</td>\n",
       "      <td>0.000000</td>\n",
       "      <td>0.000000</td>\n",
       "      <td>0.000000</td>\n",
       "    </tr>\n",
       "  </tbody>\n",
       "</table>\n",
       "</div>"
      ],
      "text/plain": [
       "          one       two     three      four      five       six\n",
       "a  100.000000  0.859585 -0.586926  0.248232 -0.254333  0.115243\n",
       "b   -0.222317 -0.902349 -0.121524  0.046674 -0.730126 -0.349760\n",
       "c    0.604333  0.062676 -1.642517 -0.542909 -0.339725 -1.334859\n",
       "d   -0.621263  1.055944 -0.746792  0.559971  0.495807  0.927689\n",
       "e    0.000000  0.000000  0.000000  0.000000  0.000000  0.000000\n",
       "f    0.000000  0.000000  0.000000  0.000000  0.000000  0.000000"
      ]
     },
     "execution_count": 16,
     "metadata": {},
     "output_type": "execute_result"
    }
   ],
   "source": [
    "df1"
   ]
  },
  {
   "cell_type": "code",
   "execution_count": 18,
   "metadata": {
    "collapsed": false
   },
   "outputs": [
    {
     "data": {
      "text/html": [
       "<div>\n",
       "<table border=\"1\" class=\"dataframe\">\n",
       "  <thead>\n",
       "    <tr style=\"text-align: right;\">\n",
       "      <th></th>\n",
       "      <th>two</th>\n",
       "      <th>four</th>\n",
       "      <th>seven</th>\n",
       "      <th>eight</th>\n",
       "    </tr>\n",
       "  </thead>\n",
       "  <tbody>\n",
       "    <tr>\n",
       "      <th>a</th>\n",
       "      <td>0.859585</td>\n",
       "      <td>0.248232</td>\n",
       "      <td>NaN</td>\n",
       "      <td>NaN</td>\n",
       "    </tr>\n",
       "    <tr>\n",
       "      <th>b</th>\n",
       "      <td>-0.902349</td>\n",
       "      <td>0.046674</td>\n",
       "      <td>NaN</td>\n",
       "      <td>NaN</td>\n",
       "    </tr>\n",
       "    <tr>\n",
       "      <th>c</th>\n",
       "      <td>0.062676</td>\n",
       "      <td>-0.542909</td>\n",
       "      <td>NaN</td>\n",
       "      <td>NaN</td>\n",
       "    </tr>\n",
       "    <tr>\n",
       "      <th>d</th>\n",
       "      <td>1.055944</td>\n",
       "      <td>0.559971</td>\n",
       "      <td>NaN</td>\n",
       "      <td>NaN</td>\n",
       "    </tr>\n",
       "  </tbody>\n",
       "</table>\n",
       "</div>"
      ],
      "text/plain": [
       "        two      four  seven  eight\n",
       "a  0.859585  0.248232    NaN    NaN\n",
       "b -0.902349  0.046674    NaN    NaN\n",
       "c  0.062676 -0.542909    NaN    NaN\n",
       "d  1.055944  0.559971    NaN    NaN"
      ]
     },
     "execution_count": 18,
     "metadata": {},
     "output_type": "execute_result"
    }
   ],
   "source": [
    "#　进行列重置\n",
    "df.reindex(columns=['two','four','seven','eight'])"
   ]
  },
  {
   "cell_type": "code",
   "execution_count": 28,
   "metadata": {
    "collapsed": false
   },
   "outputs": [
    {
     "data": {
      "text/html": [
       "<div>\n",
       "<table border=\"1\" class=\"dataframe\">\n",
       "  <thead>\n",
       "    <tr style=\"text-align: right;\">\n",
       "      <th></th>\n",
       "      <th>one</th>\n",
       "      <th>two</th>\n",
       "      <th>three</th>\n",
       "      <th>four</th>\n",
       "      <th>five</th>\n",
       "      <th>six</th>\n",
       "    </tr>\n",
       "  </thead>\n",
       "  <tbody>\n",
       "    <tr>\n",
       "      <th>a</th>\n",
       "      <td>0.897951</td>\n",
       "      <td>-0.063072</td>\n",
       "      <td>-0.120611</td>\n",
       "      <td>-0.770656</td>\n",
       "      <td>0.733608</td>\n",
       "      <td>-0.556656</td>\n",
       "    </tr>\n",
       "    <tr>\n",
       "      <th>b</th>\n",
       "      <td>1.287804</td>\n",
       "      <td>-0.686061</td>\n",
       "      <td>-0.741845</td>\n",
       "      <td>-0.088056</td>\n",
       "      <td>-0.249388</td>\n",
       "      <td>-1.071138</td>\n",
       "    </tr>\n",
       "    <tr>\n",
       "      <th>c</th>\n",
       "      <td>1.130996</td>\n",
       "      <td>0.370635</td>\n",
       "      <td>-0.397492</td>\n",
       "      <td>1.633125</td>\n",
       "      <td>-0.083090</td>\n",
       "      <td>0.067505</td>\n",
       "    </tr>\n",
       "    <tr>\n",
       "      <th>d</th>\n",
       "      <td>0.464732</td>\n",
       "      <td>-0.070307</td>\n",
       "      <td>0.817354</td>\n",
       "      <td>-1.077252</td>\n",
       "      <td>0.917955</td>\n",
       "      <td>-1.622885</td>\n",
       "    </tr>\n",
       "  </tbody>\n",
       "</table>\n",
       "</div>"
      ],
      "text/plain": [
       "        one       two     three      four      five       six\n",
       "a  0.897951 -0.063072 -0.120611 -0.770656  0.733608 -0.556656\n",
       "b  1.287804 -0.686061 -0.741845 -0.088056 -0.249388 -1.071138\n",
       "c  1.130996  0.370635 -0.397492  1.633125 -0.083090  0.067505\n",
       "d  0.464732 -0.070307  0.817354 -1.077252  0.917955 -1.622885"
      ]
     },
     "execution_count": 28,
     "metadata": {},
     "output_type": "execute_result"
    }
   ],
   "source": [
    "df"
   ]
  },
  {
   "cell_type": "code",
   "execution_count": 30,
   "metadata": {
    "collapsed": false
   },
   "outputs": [
    {
     "data": {
      "text/html": [
       "<div>\n",
       "<table border=\"1\" class=\"dataframe\">\n",
       "  <thead>\n",
       "    <tr style=\"text-align: right;\">\n",
       "      <th></th>\n",
       "      <th>one</th>\n",
       "      <th>two</th>\n",
       "      <th>three</th>\n",
       "      <th>four</th>\n",
       "      <th>five</th>\n",
       "      <th>six</th>\n",
       "    </tr>\n",
       "  </thead>\n",
       "  <tbody>\n",
       "    <tr>\n",
       "      <th>b</th>\n",
       "      <td>1.287804</td>\n",
       "      <td>-0.686061</td>\n",
       "      <td>-0.741845</td>\n",
       "      <td>-0.088056</td>\n",
       "      <td>-0.249388</td>\n",
       "      <td>-1.071138</td>\n",
       "    </tr>\n",
       "    <tr>\n",
       "      <th>c</th>\n",
       "      <td>1.130996</td>\n",
       "      <td>0.370635</td>\n",
       "      <td>-0.397492</td>\n",
       "      <td>1.633125</td>\n",
       "      <td>-0.083090</td>\n",
       "      <td>0.067505</td>\n",
       "    </tr>\n",
       "    <tr>\n",
       "      <th>d</th>\n",
       "      <td>0.464732</td>\n",
       "      <td>-0.070307</td>\n",
       "      <td>0.817354</td>\n",
       "      <td>-1.077252</td>\n",
       "      <td>0.917955</td>\n",
       "      <td>-1.622885</td>\n",
       "    </tr>\n",
       "  </tbody>\n",
       "</table>\n",
       "</div>"
      ],
      "text/plain": [
       "        one       two     three      four      five       six\n",
       "b  1.287804 -0.686061 -0.741845 -0.088056 -0.249388 -1.071138\n",
       "c  1.130996  0.370635 -0.397492  1.633125 -0.083090  0.067505\n",
       "d  0.464732 -0.070307  0.817354 -1.077252  0.917955 -1.622885"
      ]
     },
     "execution_count": 30,
     "metadata": {},
     "output_type": "execute_result"
    }
   ],
   "source": [
    "# 删除某一行\n",
    "df.drop('a')"
   ]
  },
  {
   "cell_type": "code",
   "execution_count": 31,
   "metadata": {
    "collapsed": false
   },
   "outputs": [
    {
     "data": {
      "text/html": [
       "<div>\n",
       "<table border=\"1\" class=\"dataframe\">\n",
       "  <thead>\n",
       "    <tr style=\"text-align: right;\">\n",
       "      <th></th>\n",
       "      <th>two</th>\n",
       "      <th>three</th>\n",
       "      <th>four</th>\n",
       "      <th>five</th>\n",
       "      <th>six</th>\n",
       "    </tr>\n",
       "  </thead>\n",
       "  <tbody>\n",
       "    <tr>\n",
       "      <th>a</th>\n",
       "      <td>-0.063072</td>\n",
       "      <td>-0.120611</td>\n",
       "      <td>-0.770656</td>\n",
       "      <td>0.733608</td>\n",
       "      <td>-0.556656</td>\n",
       "    </tr>\n",
       "    <tr>\n",
       "      <th>b</th>\n",
       "      <td>-0.686061</td>\n",
       "      <td>-0.741845</td>\n",
       "      <td>-0.088056</td>\n",
       "      <td>-0.249388</td>\n",
       "      <td>-1.071138</td>\n",
       "    </tr>\n",
       "    <tr>\n",
       "      <th>c</th>\n",
       "      <td>0.370635</td>\n",
       "      <td>-0.397492</td>\n",
       "      <td>1.633125</td>\n",
       "      <td>-0.083090</td>\n",
       "      <td>0.067505</td>\n",
       "    </tr>\n",
       "    <tr>\n",
       "      <th>d</th>\n",
       "      <td>-0.070307</td>\n",
       "      <td>0.817354</td>\n",
       "      <td>-1.077252</td>\n",
       "      <td>0.917955</td>\n",
       "      <td>-1.622885</td>\n",
       "    </tr>\n",
       "  </tbody>\n",
       "</table>\n",
       "</div>"
      ],
      "text/plain": [
       "        two     three      four      five       six\n",
       "a -0.063072 -0.120611 -0.770656  0.733608 -0.556656\n",
       "b -0.686061 -0.741845 -0.088056 -0.249388 -1.071138\n",
       "c  0.370635 -0.397492  1.633125 -0.083090  0.067505\n",
       "d -0.070307  0.817354 -1.077252  0.917955 -1.622885"
      ]
     },
     "execution_count": 31,
     "metadata": {},
     "output_type": "execute_result"
    }
   ],
   "source": [
    "# 删除某一列\n",
    "df.drop('one',axis=1)"
   ]
  },
  {
   "cell_type": "code",
   "execution_count": 32,
   "metadata": {
    "collapsed": false
   },
   "outputs": [
    {
     "data": {
      "text/html": [
       "<div>\n",
       "<table border=\"1\" class=\"dataframe\">\n",
       "  <thead>\n",
       "    <tr style=\"text-align: right;\">\n",
       "      <th></th>\n",
       "      <th>one</th>\n",
       "      <th>two</th>\n",
       "      <th>three</th>\n",
       "      <th>four</th>\n",
       "      <th>five</th>\n",
       "      <th>six</th>\n",
       "    </tr>\n",
       "  </thead>\n",
       "  <tbody>\n",
       "    <tr>\n",
       "      <th>a</th>\n",
       "      <td>0.897951</td>\n",
       "      <td>-0.063072</td>\n",
       "      <td>-0.120611</td>\n",
       "      <td>-0.770656</td>\n",
       "      <td>0.733608</td>\n",
       "      <td>-0.556656</td>\n",
       "    </tr>\n",
       "    <tr>\n",
       "      <th>b</th>\n",
       "      <td>1.287804</td>\n",
       "      <td>-0.686061</td>\n",
       "      <td>-0.741845</td>\n",
       "      <td>-0.088056</td>\n",
       "      <td>-0.249388</td>\n",
       "      <td>-1.071138</td>\n",
       "    </tr>\n",
       "    <tr>\n",
       "      <th>c</th>\n",
       "      <td>1.130996</td>\n",
       "      <td>0.370635</td>\n",
       "      <td>-0.397492</td>\n",
       "      <td>1.633125</td>\n",
       "      <td>-0.083090</td>\n",
       "      <td>0.067505</td>\n",
       "    </tr>\n",
       "    <tr>\n",
       "      <th>d</th>\n",
       "      <td>0.464732</td>\n",
       "      <td>-0.070307</td>\n",
       "      <td>0.817354</td>\n",
       "      <td>-1.077252</td>\n",
       "      <td>0.917955</td>\n",
       "      <td>-1.622885</td>\n",
       "    </tr>\n",
       "  </tbody>\n",
       "</table>\n",
       "</div>"
      ],
      "text/plain": [
       "        one       two     three      four      five       six\n",
       "a  0.897951 -0.063072 -0.120611 -0.770656  0.733608 -0.556656\n",
       "b  1.287804 -0.686061 -0.741845 -0.088056 -0.249388 -1.071138\n",
       "c  1.130996  0.370635 -0.397492  1.633125 -0.083090  0.067505\n",
       "d  0.464732 -0.070307  0.817354 -1.077252  0.917955 -1.622885"
      ]
     },
     "execution_count": 32,
     "metadata": {},
     "output_type": "execute_result"
    }
   ],
   "source": [
    "df"
   ]
  },
  {
   "cell_type": "code",
   "execution_count": 33,
   "metadata": {
    "collapsed": false
   },
   "outputs": [
    {
     "data": {
      "text/plain": [
       "one      0.823072\n",
       "two      1.056695\n",
       "three    1.559199\n",
       "four     2.710377\n",
       "five     1.167344\n",
       "six      1.690390\n",
       "dtype: float64"
      ]
     },
     "execution_count": 33,
     "metadata": {},
     "output_type": "execute_result"
    }
   ],
   "source": [
    "# 进行计算(默认按列)\n",
    "df.apply(lambda x:x.max()-x.min())"
   ]
  },
  {
   "cell_type": "code",
   "execution_count": 34,
   "metadata": {
    "collapsed": false
   },
   "outputs": [
    {
     "data": {
      "text/plain": [
       "a    1.668606\n",
       "b    2.358942\n",
       "c    2.030617\n",
       "d    2.540841\n",
       "dtype: float64"
      ]
     },
     "execution_count": 34,
     "metadata": {},
     "output_type": "execute_result"
    }
   ],
   "source": [
    "# 进行计算(按行)\n",
    "df.apply(lambda x:x.max()-x.min(),axis=1)"
   ]
  },
  {
   "cell_type": "code",
   "execution_count": 35,
   "metadata": {
    "collapsed": false
   },
   "outputs": [
    {
     "data": {
      "text/html": [
       "<div>\n",
       "<table border=\"1\" class=\"dataframe\">\n",
       "  <thead>\n",
       "    <tr style=\"text-align: right;\">\n",
       "      <th></th>\n",
       "      <th>one</th>\n",
       "      <th>two</th>\n",
       "      <th>three</th>\n",
       "      <th>four</th>\n",
       "      <th>five</th>\n",
       "      <th>six</th>\n",
       "    </tr>\n",
       "  </thead>\n",
       "  <tbody>\n",
       "    <tr>\n",
       "      <th>a</th>\n",
       "      <td>0.898</td>\n",
       "      <td>-0.063</td>\n",
       "      <td>-0.121</td>\n",
       "      <td>-0.771</td>\n",
       "      <td>0.734</td>\n",
       "      <td>-0.557</td>\n",
       "    </tr>\n",
       "    <tr>\n",
       "      <th>b</th>\n",
       "      <td>1.288</td>\n",
       "      <td>-0.686</td>\n",
       "      <td>-0.742</td>\n",
       "      <td>-0.088</td>\n",
       "      <td>-0.249</td>\n",
       "      <td>-1.071</td>\n",
       "    </tr>\n",
       "    <tr>\n",
       "      <th>c</th>\n",
       "      <td>1.131</td>\n",
       "      <td>0.371</td>\n",
       "      <td>-0.397</td>\n",
       "      <td>1.633</td>\n",
       "      <td>-0.083</td>\n",
       "      <td>0.068</td>\n",
       "    </tr>\n",
       "    <tr>\n",
       "      <th>d</th>\n",
       "      <td>0.465</td>\n",
       "      <td>-0.070</td>\n",
       "      <td>0.817</td>\n",
       "      <td>-1.077</td>\n",
       "      <td>0.918</td>\n",
       "      <td>-1.623</td>\n",
       "    </tr>\n",
       "  </tbody>\n",
       "</table>\n",
       "</div>"
      ],
      "text/plain": [
       "     one     two   three    four    five     six\n",
       "a  0.898  -0.063  -0.121  -0.771   0.734  -0.557\n",
       "b  1.288  -0.686  -0.742  -0.088  -0.249  -1.071\n",
       "c  1.131   0.371  -0.397   1.633  -0.083   0.068\n",
       "d  0.465  -0.070   0.817  -1.077   0.918  -1.623"
      ]
     },
     "execution_count": 35,
     "metadata": {},
     "output_type": "execute_result"
    }
   ],
   "source": [
    "# 创建函数使df值只显示小数点后面3位\n",
    "formater = lambda x: '%.03f' % x\n",
    "df.applymap(formater)"
   ]
  },
  {
   "cell_type": "code",
   "execution_count": 36,
   "metadata": {
    "collapsed": false
   },
   "outputs": [
    {
     "data": {
      "text/html": [
       "<div>\n",
       "<table border=\"1\" class=\"dataframe\">\n",
       "  <thead>\n",
       "    <tr style=\"text-align: right;\">\n",
       "      <th></th>\n",
       "      <th>one</th>\n",
       "      <th>two</th>\n",
       "      <th>three</th>\n",
       "      <th>four</th>\n",
       "      <th>five</th>\n",
       "      <th>six</th>\n",
       "    </tr>\n",
       "  </thead>\n",
       "  <tbody>\n",
       "    <tr>\n",
       "      <th>d</th>\n",
       "      <td>0.464732</td>\n",
       "      <td>-0.070307</td>\n",
       "      <td>0.817354</td>\n",
       "      <td>-1.077252</td>\n",
       "      <td>0.917955</td>\n",
       "      <td>-1.622885</td>\n",
       "    </tr>\n",
       "    <tr>\n",
       "      <th>a</th>\n",
       "      <td>0.897951</td>\n",
       "      <td>-0.063072</td>\n",
       "      <td>-0.120611</td>\n",
       "      <td>-0.770656</td>\n",
       "      <td>0.733608</td>\n",
       "      <td>-0.556656</td>\n",
       "    </tr>\n",
       "    <tr>\n",
       "      <th>c</th>\n",
       "      <td>1.130996</td>\n",
       "      <td>0.370635</td>\n",
       "      <td>-0.397492</td>\n",
       "      <td>1.633125</td>\n",
       "      <td>-0.083090</td>\n",
       "      <td>0.067505</td>\n",
       "    </tr>\n",
       "    <tr>\n",
       "      <th>b</th>\n",
       "      <td>1.287804</td>\n",
       "      <td>-0.686061</td>\n",
       "      <td>-0.741845</td>\n",
       "      <td>-0.088056</td>\n",
       "      <td>-0.249388</td>\n",
       "      <td>-1.071138</td>\n",
       "    </tr>\n",
       "  </tbody>\n",
       "</table>\n",
       "</div>"
      ],
      "text/plain": [
       "        one       two     three      four      five       six\n",
       "d  0.464732 -0.070307  0.817354 -1.077252  0.917955 -1.622885\n",
       "a  0.897951 -0.063072 -0.120611 -0.770656  0.733608 -0.556656\n",
       "c  1.130996  0.370635 -0.397492  1.633125 -0.083090  0.067505\n",
       "b  1.287804 -0.686061 -0.741845 -0.088056 -0.249388 -1.071138"
      ]
     },
     "execution_count": 36,
     "metadata": {},
     "output_type": "execute_result"
    }
   ],
   "source": [
    "# 排序\n",
    "df.sort_values(by='one')"
   ]
  },
  {
   "cell_type": "code",
   "execution_count": 37,
   "metadata": {
    "collapsed": false
   },
   "outputs": [
    {
     "data": {
      "text/html": [
       "<div>\n",
       "<table border=\"1\" class=\"dataframe\">\n",
       "  <thead>\n",
       "    <tr style=\"text-align: right;\">\n",
       "      <th></th>\n",
       "      <th>one</th>\n",
       "      <th>two</th>\n",
       "      <th>three</th>\n",
       "      <th>four</th>\n",
       "      <th>five</th>\n",
       "      <th>six</th>\n",
       "    </tr>\n",
       "  </thead>\n",
       "  <tbody>\n",
       "    <tr>\n",
       "      <th>b</th>\n",
       "      <td>1.287804</td>\n",
       "      <td>-0.686061</td>\n",
       "      <td>-0.741845</td>\n",
       "      <td>-0.088056</td>\n",
       "      <td>-0.249388</td>\n",
       "      <td>-1.071138</td>\n",
       "    </tr>\n",
       "    <tr>\n",
       "      <th>c</th>\n",
       "      <td>1.130996</td>\n",
       "      <td>0.370635</td>\n",
       "      <td>-0.397492</td>\n",
       "      <td>1.633125</td>\n",
       "      <td>-0.083090</td>\n",
       "      <td>0.067505</td>\n",
       "    </tr>\n",
       "    <tr>\n",
       "      <th>a</th>\n",
       "      <td>0.897951</td>\n",
       "      <td>-0.063072</td>\n",
       "      <td>-0.120611</td>\n",
       "      <td>-0.770656</td>\n",
       "      <td>0.733608</td>\n",
       "      <td>-0.556656</td>\n",
       "    </tr>\n",
       "    <tr>\n",
       "      <th>d</th>\n",
       "      <td>0.464732</td>\n",
       "      <td>-0.070307</td>\n",
       "      <td>0.817354</td>\n",
       "      <td>-1.077252</td>\n",
       "      <td>0.917955</td>\n",
       "      <td>-1.622885</td>\n",
       "    </tr>\n",
       "  </tbody>\n",
       "</table>\n",
       "</div>"
      ],
      "text/plain": [
       "        one       two     three      four      five       six\n",
       "b  1.287804 -0.686061 -0.741845 -0.088056 -0.249388 -1.071138\n",
       "c  1.130996  0.370635 -0.397492  1.633125 -0.083090  0.067505\n",
       "a  0.897951 -0.063072 -0.120611 -0.770656  0.733608 -0.556656\n",
       "d  0.464732 -0.070307  0.817354 -1.077252  0.917955 -1.622885"
      ]
     },
     "execution_count": 37,
     "metadata": {},
     "output_type": "execute_result"
    }
   ],
   "source": [
    "df.sort_values(by='one',ascending=False)"
   ]
  },
  {
   "cell_type": "code",
   "execution_count": 42,
   "metadata": {
    "collapsed": false
   },
   "outputs": [
    {
     "data": {
      "text/plain": [
       "0    4\n",
       "1    6\n",
       "2    1\n",
       "3    7\n",
       "4    2\n",
       "5    4\n",
       "dtype: int64"
      ]
     },
     "execution_count": 42,
     "metadata": {},
     "output_type": "execute_result"
    }
   ],
   "source": [
    "s = pd.Series([4,6,1,7,2,4])\n",
    "s"
   ]
  },
  {
   "cell_type": "code",
   "execution_count": 43,
   "metadata": {
    "collapsed": false
   },
   "outputs": [
    {
     "data": {
      "text/plain": [
       "0    3.5\n",
       "1    5.0\n",
       "2    1.0\n",
       "3    6.0\n",
       "4    2.0\n",
       "5    3.5\n",
       "dtype: float64"
      ]
     },
     "execution_count": 43,
     "metadata": {},
     "output_type": "execute_result"
    }
   ],
   "source": [
    "# 排名\n",
    "s.rank()"
   ]
  },
  {
   "cell_type": "code",
   "execution_count": 44,
   "metadata": {
    "collapsed": false
   },
   "outputs": [
    {
     "data": {
      "text/plain": [
       "0    3.0\n",
       "1    5.0\n",
       "2    1.0\n",
       "3    6.0\n",
       "4    2.0\n",
       "5    4.0\n",
       "dtype: float64"
      ]
     },
     "execution_count": 44,
     "metadata": {},
     "output_type": "execute_result"
    }
   ],
   "source": [
    "# 相同名次时，先出现的排前面\n",
    "s.rank(method='first')"
   ]
  },
  {
   "cell_type": "code",
   "execution_count": 45,
   "metadata": {
    "collapsed": false
   },
   "outputs": [
    {
     "data": {
      "text/plain": [
       "0    3.5\n",
       "1    2.0\n",
       "2    6.0\n",
       "3    1.0\n",
       "4    5.0\n",
       "5    3.5\n",
       "dtype: float64"
      ]
     },
     "execution_count": 45,
     "metadata": {},
     "output_type": "execute_result"
    }
   ],
   "source": [
    "# 进行升序\n",
    "s.rank(ascending=False)"
   ]
  },
  {
   "cell_type": "code",
   "execution_count": 48,
   "metadata": {
    "collapsed": true
   },
   "outputs": [],
   "source": [
    "s = pd.Series(list('abdgdagcsdasda'))"
   ]
  },
  {
   "cell_type": "code",
   "execution_count": 49,
   "metadata": {
    "collapsed": false
   },
   "outputs": [
    {
     "data": {
      "text/plain": [
       "0     a\n",
       "1     b\n",
       "2     d\n",
       "3     g\n",
       "4     d\n",
       "5     a\n",
       "6     g\n",
       "7     c\n",
       "8     s\n",
       "9     d\n",
       "10    a\n",
       "11    s\n",
       "12    d\n",
       "13    a\n",
       "dtype: object"
      ]
     },
     "execution_count": 49,
     "metadata": {},
     "output_type": "execute_result"
    }
   ],
   "source": [
    "s"
   ]
  },
  {
   "cell_type": "code",
   "execution_count": 50,
   "metadata": {
    "collapsed": false
   },
   "outputs": [
    {
     "data": {
      "text/plain": [
       "d    4\n",
       "a    4\n",
       "g    2\n",
       "s    2\n",
       "b    1\n",
       "c    1\n",
       "dtype: int64"
      ]
     },
     "execution_count": 50,
     "metadata": {},
     "output_type": "execute_result"
    }
   ],
   "source": [
    "# 进行个数统计\n",
    "s.value_counts()"
   ]
  },
  {
   "cell_type": "code",
   "execution_count": 51,
   "metadata": {
    "collapsed": false
   },
   "outputs": [
    {
     "data": {
      "text/plain": [
       "array(['a', 'b', 'd', 'g', 'c', 's'], dtype=object)"
      ]
     },
     "execution_count": 51,
     "metadata": {},
     "output_type": "execute_result"
    }
   ],
   "source": [
    "# 都有哪些值\n",
    "s.unique()"
   ]
  },
  {
   "cell_type": "code",
   "execution_count": 52,
   "metadata": {
    "collapsed": false
   },
   "outputs": [
    {
     "data": {
      "text/plain": [
       "0      True\n",
       "1      True\n",
       "2     False\n",
       "3     False\n",
       "4     False\n",
       "5      True\n",
       "6     False\n",
       "7      True\n",
       "8     False\n",
       "9     False\n",
       "10     True\n",
       "11    False\n",
       "12    False\n",
       "13     True\n",
       "dtype: bool"
      ]
     },
     "execution_count": 52,
     "metadata": {},
     "output_type": "execute_result"
    }
   ],
   "source": [
    "s.isin(['a','b','c'])"
   ]
  },
  {
   "cell_type": "code",
   "execution_count": null,
   "metadata": {
    "collapsed": true
   },
   "outputs": [],
   "source": []
  }
 ],
 "metadata": {
  "kernelspec": {
   "display_name": "Python 2",
   "language": "python",
   "name": "python2"
  },
  "language_info": {
   "codemirror_mode": {
    "name": "ipython",
    "version": 2
   },
   "file_extension": ".py",
   "mimetype": "text/x-python",
   "name": "python",
   "nbconvert_exporter": "python",
   "pygments_lexer": "ipython2",
   "version": "2.7.12"
  }
 },
 "nbformat": 4,
 "nbformat_minor": 2
}
